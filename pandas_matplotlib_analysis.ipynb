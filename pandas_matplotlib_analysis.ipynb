{
 "cells": [
  {
   "cell_type": "markdown",
   "id": "b4633893",
   "metadata": {},
   "source": [
    "# Analyzing Data with Pandas and Visualizing Results with Matplotlib\n",
    "This notebook loads the Iris dataset, explores it, performs basic analysis, and creates visualizations using Pandas, Matplotlib, and Seaborn."
   ]
  },
  {
   "cell_type": "code",
   "execution_count": null,
   "id": "b0cf20f4",
   "metadata": {},
   "outputs": [],
   "source": [
    "\n",
    "import pandas as pd\n",
    "import matplotlib.pyplot as plt\n",
    "import seaborn as sns\n",
    "from sklearn.datasets import load_iris\n"
   ]
  },
  {
   "cell_type": "markdown",
   "id": "294b98d8",
   "metadata": {},
   "source": [
    "## Task 1: Load and Explore the Dataset"
   ]
  },
  {
   "cell_type": "code",
   "execution_count": null,
   "id": "cb957ddd",
   "metadata": {},
   "outputs": [],
   "source": [
    "\n",
    "try:\n",
    "    iris = load_iris(as_frame=True)\n",
    "    df = iris.frame\n",
    "    print(\"Dataset loaded successfully!\")\n",
    "except Exception as e:\n",
    "    print(\"Error loading dataset:\", e)\n",
    "\n",
    "# Show first rows\n",
    "print(\"\\nFirst 5 rows:\")\n",
    "display(df.head())\n",
    "\n",
    "# Dataset info\n",
    "print(\"\\nDataset info:\")\n",
    "print(df.info())\n",
    "\n",
    "# Missing values\n",
    "print(\"\\nMissing values per column:\")\n",
    "print(df.isnull().sum())\n",
    "\n",
    "# Drop missing values if any\n",
    "df = df.dropna()\n"
   ]
  },
  {
   "cell_type": "markdown",
   "id": "d330d0eb",
   "metadata": {},
   "source": [
    "## Task 2: Basic Data Analysis"
   ]
  },
  {
   "cell_type": "code",
   "execution_count": null,
   "id": "c14db3ec",
   "metadata": {},
   "outputs": [],
   "source": [
    "\n",
    "# Summary statistics\n",
    "print(\"\\nSummary statistics:\")\n",
    "display(df.describe())\n",
    "\n",
    "# Grouping by species\n",
    "grouped = df.groupby(\"target\").mean()\n",
    "print(\"\\nMean values by species (target IDs):\")\n",
    "display(grouped)\n",
    "\n",
    "# Map species numbers to names\n",
    "df[\"species\"] = df[\"target\"].map({i: name for i, name in enumerate(iris.target_names)})\n"
   ]
  },
  {
   "cell_type": "markdown",
   "id": "f2f3c002",
   "metadata": {},
   "source": [
    "## Task 3: Data Visualization"
   ]
  },
  {
   "cell_type": "code",
   "execution_count": null,
   "id": "019b9bb3",
   "metadata": {},
   "outputs": [],
   "source": [
    "\n",
    "# 1. Line Chart - Cumulative Sepal Length\n",
    "plt.figure(figsize=(8,5))\n",
    "plt.plot(df.index, df[\"sepal length (cm)\"].cumsum(), label=\"Cumulative Sepal Length\")\n",
    "plt.title(\"Line Chart - Cumulative Sepal Length\")\n",
    "plt.xlabel(\"Sample Index\")\n",
    "plt.ylabel(\"Cumulative Sepal Length (cm)\")\n",
    "plt.legend()\n",
    "plt.show()\n"
   ]
  },
  {
   "cell_type": "code",
   "execution_count": null,
   "id": "2ae80cc9",
   "metadata": {},
   "outputs": [],
   "source": [
    "\n",
    "# 2. Bar Chart - Avg Petal Length per Species\n",
    "plt.figure(figsize=(8,5))\n",
    "df.groupby(\"species\")[\"petal length (cm)\"].mean().plot(kind=\"bar\", color=\"skyblue\")\n",
    "plt.title(\"Bar Chart - Avg Petal Length per Species\")\n",
    "plt.xlabel(\"Species\")\n",
    "plt.ylabel(\"Average Petal Length (cm)\")\n",
    "plt.show()\n"
   ]
  },
  {
   "cell_type": "code",
   "execution_count": null,
   "id": "97732318",
   "metadata": {},
   "outputs": [],
   "source": [
    "\n",
    "# 3. Histogram - Sepal Width Distribution\n",
    "plt.figure(figsize=(8,5))\n",
    "plt.hist(df[\"sepal width (cm)\"], bins=15, color=\"orange\", edgecolor=\"black\")\n",
    "plt.title(\"Histogram - Sepal Width Distribution\")\n",
    "plt.xlabel(\"Sepal Width (cm)\")\n",
    "plt.ylabel(\"Frequency\")\n",
    "plt.show()\n"
   ]
  },
  {
   "cell_type": "code",
   "execution_count": null,
   "id": "c9361dd0",
   "metadata": {},
   "outputs": [],
   "source": [
    "\n",
    "# 4. Scatter Plot - Sepal vs Petal Length\n",
    "plt.figure(figsize=(8,5))\n",
    "sns.scatterplot(x=\"sepal length (cm)\", y=\"petal length (cm)\", hue=\"species\", data=df)\n",
    "plt.title(\"Scatter Plot - Sepal vs Petal Length\")\n",
    "plt.xlabel(\"Sepal Length (cm)\")\n",
    "plt.ylabel(\"Petal Length (cm)\")\n",
    "plt.legend(title=\"Species\")\n",
    "plt.show()\n"
   ]
  },
  {
   "cell_type": "markdown",
   "id": "e98cb6e4",
   "metadata": {},
   "source": [
    "## Findings / Observations\n",
    "1. Iris Setosa generally has smaller petal length compared to Versicolor and Virginica.\n",
    "2. Sepal length and petal length are positively correlated.\n",
    "3. The histogram shows most sepal widths are between 2.5 - 3.5 cm.\n",
    "4. The line chart indicates a steady increase in cumulative sepal length as samples progress."
   ]
  }
 ],
 "metadata": {},
 "nbformat": 4,
 "nbformat_minor": 5
}
